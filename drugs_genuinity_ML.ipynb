{
 "cells": [
  {
   "cell_type": "code",
   "execution_count": 209,
   "id": "d8129936",
   "metadata": {},
   "outputs": [],
   "source": [
    "import numpy as np\n",
    "import pandas as pd"
   ]
  },
  {
   "cell_type": "code",
   "execution_count": 210,
   "id": "8c9cea6e",
   "metadata": {},
   "outputs": [],
   "source": [
    "data=pd.read_csv('drugs1.csv')"
   ]
  },
  {
   "cell_type": "code",
   "execution_count": 211,
   "id": "afc610e9",
   "metadata": {},
   "outputs": [
    {
     "data": {
      "text/html": [
       "<div>\n",
       "<style scoped>\n",
       "    .dataframe tbody tr th:only-of-type {\n",
       "        vertical-align: middle;\n",
       "    }\n",
       "\n",
       "    .dataframe tbody tr th {\n",
       "        vertical-align: top;\n",
       "    }\n",
       "\n",
       "    .dataframe thead th {\n",
       "        text-align: right;\n",
       "    }\n",
       "</style>\n",
       "<table border=\"1\" class=\"dataframe\">\n",
       "  <thead>\n",
       "    <tr style=\"text-align: right;\">\n",
       "      <th></th>\n",
       "      <th>key</th>\n",
       "      <th>class</th>\n",
       "    </tr>\n",
       "  </thead>\n",
       "  <tbody>\n",
       "    <tr>\n",
       "      <th>0</th>\n",
       "      <td>narcotic narcotics</td>\n",
       "      <td>1</td>\n",
       "    </tr>\n",
       "    <tr>\n",
       "      <th>1</th>\n",
       "      <td>drugs</td>\n",
       "      <td>1</td>\n",
       "    </tr>\n",
       "    <tr>\n",
       "      <th>2</th>\n",
       "      <td>pshychotropic</td>\n",
       "      <td>1</td>\n",
       "    </tr>\n",
       "    <tr>\n",
       "      <th>3</th>\n",
       "      <td>substances</td>\n",
       "      <td>1</td>\n",
       "    </tr>\n",
       "    <tr>\n",
       "      <th>4</th>\n",
       "      <td>addiction</td>\n",
       "      <td>1</td>\n",
       "    </tr>\n",
       "  </tbody>\n",
       "</table>\n",
       "</div>"
      ],
      "text/plain": [
       "                  key  class\n",
       "0  narcotic narcotics      1\n",
       "1               drugs      1\n",
       "2       pshychotropic      1\n",
       "3          substances      1\n",
       "4           addiction      1"
      ]
     },
     "execution_count": 211,
     "metadata": {},
     "output_type": "execute_result"
    }
   ],
   "source": [
    "data.head()"
   ]
  },
  {
   "cell_type": "code",
   "execution_count": 212,
   "id": "b88a25e6",
   "metadata": {},
   "outputs": [
    {
     "data": {
      "text/html": [
       "<div>\n",
       "<style scoped>\n",
       "    .dataframe tbody tr th:only-of-type {\n",
       "        vertical-align: middle;\n",
       "    }\n",
       "\n",
       "    .dataframe tbody tr th {\n",
       "        vertical-align: top;\n",
       "    }\n",
       "\n",
       "    .dataframe thead th {\n",
       "        text-align: right;\n",
       "    }\n",
       "</style>\n",
       "<table border=\"1\" class=\"dataframe\">\n",
       "  <thead>\n",
       "    <tr style=\"text-align: right;\">\n",
       "      <th></th>\n",
       "      <th>key</th>\n",
       "      <th>class</th>\n",
       "    </tr>\n",
       "  </thead>\n",
       "  <tbody>\n",
       "    <tr>\n",
       "      <th>206</th>\n",
       "      <td>austere</td>\n",
       "      <td>0</td>\n",
       "    </tr>\n",
       "    <tr>\n",
       "      <th>207</th>\n",
       "      <td>belie</td>\n",
       "      <td>0</td>\n",
       "    </tr>\n",
       "    <tr>\n",
       "      <th>208</th>\n",
       "      <td>capricious</td>\n",
       "      <td>0</td>\n",
       "    </tr>\n",
       "    <tr>\n",
       "      <th>209</th>\n",
       "      <td>cerebral</td>\n",
       "      <td>0</td>\n",
       "    </tr>\n",
       "    <tr>\n",
       "      <th>210</th>\n",
       "      <td>congenial</td>\n",
       "      <td>0</td>\n",
       "    </tr>\n",
       "  </tbody>\n",
       "</table>\n",
       "</div>"
      ],
      "text/plain": [
       "            key  class\n",
       "206     austere      0\n",
       "207       belie      0\n",
       "208  capricious      0\n",
       "209    cerebral      0\n",
       "210   congenial      0"
      ]
     },
     "execution_count": 212,
     "metadata": {},
     "output_type": "execute_result"
    }
   ],
   "source": [
    "data.tail()"
   ]
  },
  {
   "cell_type": "code",
   "execution_count": 213,
   "id": "77aec329",
   "metadata": {},
   "outputs": [
    {
     "data": {
      "text/plain": [
       "key      0\n",
       "class    0\n",
       "dtype: int64"
      ]
     },
     "execution_count": 213,
     "metadata": {},
     "output_type": "execute_result"
    }
   ],
   "source": [
    "data.isnull().sum()"
   ]
  },
  {
   "cell_type": "code",
   "execution_count": 214,
   "id": "2ffdaee1",
   "metadata": {},
   "outputs": [],
   "source": [
    "data = data.sample(frac = 1)"
   ]
  },
  {
   "cell_type": "code",
   "execution_count": 215,
   "id": "202faa88",
   "metadata": {},
   "outputs": [
    {
     "data": {
      "text/html": [
       "<div>\n",
       "<style scoped>\n",
       "    .dataframe tbody tr th:only-of-type {\n",
       "        vertical-align: middle;\n",
       "    }\n",
       "\n",
       "    .dataframe tbody tr th {\n",
       "        vertical-align: top;\n",
       "    }\n",
       "\n",
       "    .dataframe thead th {\n",
       "        text-align: right;\n",
       "    }\n",
       "</style>\n",
       "<table border=\"1\" class=\"dataframe\">\n",
       "  <thead>\n",
       "    <tr style=\"text-align: right;\">\n",
       "      <th></th>\n",
       "      <th>key</th>\n",
       "      <th>class</th>\n",
       "    </tr>\n",
       "  </thead>\n",
       "  <tbody>\n",
       "    <tr>\n",
       "      <th>48</th>\n",
       "      <td>suspicious packaging</td>\n",
       "      <td>1</td>\n",
       "    </tr>\n",
       "    <tr>\n",
       "      <th>4</th>\n",
       "      <td>addiction</td>\n",
       "      <td>1</td>\n",
       "    </tr>\n",
       "    <tr>\n",
       "      <th>199</th>\n",
       "      <td>girl</td>\n",
       "      <td>0</td>\n",
       "    </tr>\n",
       "    <tr>\n",
       "      <th>117</th>\n",
       "      <td>URGENT! You have won</td>\n",
       "      <td>0</td>\n",
       "    </tr>\n",
       "    <tr>\n",
       "      <th>49</th>\n",
       "      <td>pills that were of unusual colour</td>\n",
       "      <td>1</td>\n",
       "    </tr>\n",
       "    <tr>\n",
       "      <th>173</th>\n",
       "      <td>ironman</td>\n",
       "      <td>0</td>\n",
       "    </tr>\n",
       "    <tr>\n",
       "      <th>76</th>\n",
       "      <td>he was not in his senses</td>\n",
       "      <td>1</td>\n",
       "    </tr>\n",
       "    <tr>\n",
       "      <th>159</th>\n",
       "      <td>spam</td>\n",
       "      <td>0</td>\n",
       "    </tr>\n",
       "    <tr>\n",
       "      <th>85</th>\n",
       "      <td>corruption</td>\n",
       "      <td>1</td>\n",
       "    </tr>\n",
       "    <tr>\n",
       "      <th>10</th>\n",
       "      <td>dopamine</td>\n",
       "      <td>1</td>\n",
       "    </tr>\n",
       "  </tbody>\n",
       "</table>\n",
       "</div>"
      ],
      "text/plain": [
       "                                   key  class\n",
       "48                suspicious packaging      1\n",
       "4                            addiction      1\n",
       "199                               girl      0\n",
       "117              URGENT! You have won       0\n",
       "49   pills that were of unusual colour      1\n",
       "173                            ironman      0\n",
       "76            he was not in his senses      1\n",
       "159                               spam      0\n",
       "85                          corruption      1\n",
       "10                            dopamine      1"
      ]
     },
     "execution_count": 215,
     "metadata": {},
     "output_type": "execute_result"
    }
   ],
   "source": [
    "data.head(10)"
   ]
  },
  {
   "cell_type": "code",
   "execution_count": 216,
   "id": "5d5327e2",
   "metadata": {},
   "outputs": [
    {
     "data": {
      "text/html": [
       "<div>\n",
       "<style scoped>\n",
       "    .dataframe tbody tr th:only-of-type {\n",
       "        vertical-align: middle;\n",
       "    }\n",
       "\n",
       "    .dataframe tbody tr th {\n",
       "        vertical-align: top;\n",
       "    }\n",
       "\n",
       "    .dataframe thead th {\n",
       "        text-align: right;\n",
       "    }\n",
       "</style>\n",
       "<table border=\"1\" class=\"dataframe\">\n",
       "  <thead>\n",
       "    <tr style=\"text-align: right;\">\n",
       "      <th></th>\n",
       "      <th>key</th>\n",
       "      <th>class</th>\n",
       "    </tr>\n",
       "  </thead>\n",
       "  <tbody>\n",
       "    <tr>\n",
       "      <th>124</th>\n",
       "      <td>England v Macedonia - dont miss the goals/team...</td>\n",
       "      <td>0</td>\n",
       "    </tr>\n",
       "    <tr>\n",
       "      <th>175</th>\n",
       "      <td>catch</td>\n",
       "      <td>0</td>\n",
       "    </tr>\n",
       "    <tr>\n",
       "      <th>126</th>\n",
       "      <td>I‰Û÷m going to try for 2 months ha ha only joking</td>\n",
       "      <td>0</td>\n",
       "    </tr>\n",
       "    <tr>\n",
       "      <th>8</th>\n",
       "      <td>antagonist</td>\n",
       "      <td>1</td>\n",
       "    </tr>\n",
       "    <tr>\n",
       "      <th>147</th>\n",
       "      <td>anachronistic</td>\n",
       "      <td>0</td>\n",
       "    </tr>\n",
       "  </tbody>\n",
       "</table>\n",
       "</div>"
      ],
      "text/plain": [
       "                                                   key  class\n",
       "124  England v Macedonia - dont miss the goals/team...      0\n",
       "175                                              catch      0\n",
       "126  I‰Û÷m going to try for 2 months ha ha only joking      0\n",
       "8                                           antagonist      1\n",
       "147                                      anachronistic      0"
      ]
     },
     "execution_count": 216,
     "metadata": {},
     "output_type": "execute_result"
    }
   ],
   "source": [
    "data.tail()"
   ]
  },
  {
   "cell_type": "code",
   "execution_count": 217,
   "id": "211cdafa",
   "metadata": {},
   "outputs": [],
   "source": [
    "from sklearn.feature_extraction.text import CountVectorizer\n",
    "from sklearn.model_selection import train_test_split\n",
    "from sklearn.naive_bayes import MultinomialNB"
   ]
  },
  {
   "cell_type": "code",
   "execution_count": 218,
   "id": "99b34a49",
   "metadata": {},
   "outputs": [],
   "source": [
    "x=data['key']\n",
    "y=data['class']"
   ]
  },
  {
   "cell_type": "code",
   "execution_count": 219,
   "id": "aaed5944",
   "metadata": {},
   "outputs": [],
   "source": [
    "cv=CountVectorizer()\n",
    "x = cv.fit_transform(x)"
   ]
  },
  {
   "cell_type": "code",
   "execution_count": 220,
   "id": "63f7aabd",
   "metadata": {},
   "outputs": [
    {
     "name": "stdout",
     "output_type": "stream",
     "text": [
      "  (0, 323)\t1\n",
      "  (0, 253)\t1\n",
      "  (1, 8)\t1\n",
      "  (2, 145)\t1\n",
      "  (3, 359)\t1\n",
      "  (3, 390)\t1\n",
      "  (3, 159)\t1\n",
      "  (3, 382)\t1\n",
      "  (4, 262)\t1\n",
      "  (4, 333)\t1\n",
      "  (4, 371)\t1\n",
      "  (4, 242)\t1\n",
      "  (4, 355)\t1\n",
      "  (4, 83)\t1\n",
      "  (5, 184)\t1\n",
      "  (6, 161)\t1\n",
      "  (6, 367)\t1\n",
      "  (6, 238)\t1\n",
      "  (6, 178)\t1\n",
      "  (6, 169)\t1\n",
      "  (6, 298)\t1\n",
      "  (7, 309)\t1\n",
      "  (8, 94)\t1\n",
      "  (9, 114)\t1\n",
      "  (10, 41)\t1\n",
      "  :\t:\n",
      "  (202, 194)\t1\n",
      "  (202, 90)\t1\n",
      "  (202, 348)\t1\n",
      "  (203, 182)\t1\n",
      "  (204, 87)\t1\n",
      "  (205, 117)\t1\n",
      "  (206, 335)\t1\n",
      "  (206, 124)\t1\n",
      "  (206, 207)\t1\n",
      "  (206, 113)\t1\n",
      "  (206, 219)\t1\n",
      "  (206, 147)\t1\n",
      "  (206, 327)\t1\n",
      "  (206, 235)\t1\n",
      "  (207, 74)\t1\n",
      "  (208, 345)\t1\n",
      "  (208, 190)\t1\n",
      "  (208, 149)\t1\n",
      "  (208, 224)\t1\n",
      "  (208, 139)\t1\n",
      "  (208, 349)\t1\n",
      "  (208, 155)\t2\n",
      "  (208, 246)\t1\n",
      "  (209, 27)\t1\n",
      "  (210, 23)\t1\n"
     ]
    }
   ],
   "source": [
    "print(x)"
   ]
  },
  {
   "cell_type": "code",
   "execution_count": 221,
   "id": "5f8339e2",
   "metadata": {},
   "outputs": [
    {
     "data": {
      "text/plain": [
       "array([0, 0, 0, 0, 0, 0, 0, 0, 0, 0, 0, 0, 0, 0, 0, 0, 0, 0, 0, 0, 0, 0,\n",
       "       0, 0, 0, 0, 0, 0, 0, 0, 0, 0, 0, 0, 0, 0, 0, 0, 0, 0, 0, 0, 0, 0,\n",
       "       0, 0, 0, 0, 0, 0, 0, 0, 0, 0, 0, 0, 0, 0, 0, 0, 0, 0, 0, 0, 0, 0,\n",
       "       0, 0, 0, 0, 0, 0, 0, 0, 0, 0, 0, 0, 0, 0, 0, 0, 0, 0, 0, 0, 0, 0,\n",
       "       0, 0, 0, 0, 0, 0, 0, 0, 0, 0, 0, 0, 0, 0, 0, 0, 0, 0, 0, 0, 0, 0,\n",
       "       0, 0, 0, 0, 0, 0, 0, 0, 0, 0, 0, 0, 0, 0, 0, 0, 0, 0, 0, 0, 0, 0,\n",
       "       0, 0, 0, 0, 0, 0, 0, 0, 0, 0, 0, 0, 0, 0, 0, 0, 0, 0, 0, 0, 0, 0,\n",
       "       0, 0, 0, 0, 0, 0, 0, 0, 0, 0, 0, 0, 0, 0, 0, 0, 0, 0, 0, 0, 0, 0,\n",
       "       0, 0, 0, 0, 0, 0, 0, 0, 0, 0, 0, 0, 0, 0, 0, 0, 0, 0, 0, 0, 0, 0,\n",
       "       0, 0, 0, 0, 0, 0, 0, 0, 0, 0, 0, 0, 0, 0, 0, 0, 0, 0, 0, 0, 0, 0,\n",
       "       0, 0, 0, 0, 0, 0, 0, 0, 0, 0, 0, 0, 0, 0, 0, 0, 0, 0, 0, 0, 0, 0,\n",
       "       0, 0, 0, 0, 0, 0, 0, 0, 0, 0, 0, 1, 0, 0, 0, 0, 0, 0, 0, 0, 0, 0,\n",
       "       0, 0, 0, 0, 0, 0, 0, 0, 0, 0, 0, 0, 0, 0, 0, 0, 0, 0, 0, 0, 0, 0,\n",
       "       0, 0, 0, 0, 0, 0, 0, 0, 0, 0, 0, 0, 0, 0, 0, 0, 0, 0, 0, 0, 0, 0,\n",
       "       0, 0, 0, 0, 0, 0, 0, 0, 0, 0, 0, 0, 0, 0, 0, 1, 0, 0, 0, 0, 0, 0,\n",
       "       0, 0, 0, 0, 0, 0, 0, 0, 0, 0, 0, 0, 0, 0, 0, 0, 0, 0, 0, 0, 0, 0,\n",
       "       0, 0, 0, 0, 0, 0, 0, 0, 0, 0, 0, 0, 0, 0, 0, 0, 0, 0, 0, 0, 0, 0,\n",
       "       0, 0, 0, 0, 0, 0, 0, 0, 0, 0, 0, 0, 0, 0, 0, 0, 0, 0, 0],\n",
       "      dtype=int64)"
      ]
     },
     "execution_count": 221,
     "metadata": {},
     "output_type": "execute_result"
    }
   ],
   "source": [
    "x.toarray()[0]"
   ]
  },
  {
   "cell_type": "code",
   "execution_count": 222,
   "id": "5f747792",
   "metadata": {},
   "outputs": [
    {
     "name": "stderr",
     "output_type": "stream",
     "text": [
      "C:\\Users\\divve\\anaconda3\\lib\\site-packages\\sklearn\\utils\\deprecation.py:87: FutureWarning: Function get_feature_names is deprecated; get_feature_names is deprecated in 1.0 and will be removed in 1.2. Please use get_feature_names_out instead.\n",
      "  warnings.warn(msg, category=FutureWarning)\n"
     ]
    }
   ],
   "source": [
    "frequency_ofwords = pd.DataFrame(x.toarray(), columns= cv.get_feature_names() )"
   ]
  },
  {
   "cell_type": "code",
   "execution_count": 223,
   "id": "20848696",
   "metadata": {},
   "outputs": [
    {
     "data": {
      "text/html": [
       "<div>\n",
       "<style scoped>\n",
       "    .dataframe tbody tr th:only-of-type {\n",
       "        vertical-align: middle;\n",
       "    }\n",
       "\n",
       "    .dataframe tbody tr th {\n",
       "        vertical-align: top;\n",
       "    }\n",
       "\n",
       "    .dataframe thead th {\n",
       "        text-align: right;\n",
       "    }\n",
       "</style>\n",
       "<table border=\"1\" class=\"dataframe\">\n",
       "  <thead>\n",
       "    <tr style=\"text-align: right;\">\n",
       "      <th></th>\n",
       "      <th>abate</th>\n",
       "      <th>abjure</th>\n",
       "      <th>abound</th>\n",
       "      <th>about</th>\n",
       "      <th>abuse</th>\n",
       "      <th>abusing</th>\n",
       "      <th>acting</th>\n",
       "      <th>activity</th>\n",
       "      <th>addiction</th>\n",
       "      <th>adulterate</th>\n",
       "      <th>...</th>\n",
       "      <th>word</th>\n",
       "      <th>words</th>\n",
       "      <th>work</th>\n",
       "      <th>wrapped</th>\n",
       "      <th>xxxmobilemovieclub</th>\n",
       "      <th>yaba</th>\n",
       "      <th>yes</th>\n",
       "      <th>you</th>\n",
       "      <th>your</th>\n",
       "      <th>ì_</th>\n",
       "    </tr>\n",
       "  </thead>\n",
       "  <tbody>\n",
       "    <tr>\n",
       "      <th>0</th>\n",
       "      <td>0</td>\n",
       "      <td>0</td>\n",
       "      <td>0</td>\n",
       "      <td>0</td>\n",
       "      <td>0</td>\n",
       "      <td>0</td>\n",
       "      <td>0</td>\n",
       "      <td>0</td>\n",
       "      <td>0</td>\n",
       "      <td>0</td>\n",
       "      <td>...</td>\n",
       "      <td>0</td>\n",
       "      <td>0</td>\n",
       "      <td>0</td>\n",
       "      <td>0</td>\n",
       "      <td>0</td>\n",
       "      <td>0</td>\n",
       "      <td>0</td>\n",
       "      <td>0</td>\n",
       "      <td>0</td>\n",
       "      <td>0</td>\n",
       "    </tr>\n",
       "    <tr>\n",
       "      <th>1</th>\n",
       "      <td>0</td>\n",
       "      <td>0</td>\n",
       "      <td>0</td>\n",
       "      <td>0</td>\n",
       "      <td>0</td>\n",
       "      <td>0</td>\n",
       "      <td>0</td>\n",
       "      <td>0</td>\n",
       "      <td>1</td>\n",
       "      <td>0</td>\n",
       "      <td>...</td>\n",
       "      <td>0</td>\n",
       "      <td>0</td>\n",
       "      <td>0</td>\n",
       "      <td>0</td>\n",
       "      <td>0</td>\n",
       "      <td>0</td>\n",
       "      <td>0</td>\n",
       "      <td>0</td>\n",
       "      <td>0</td>\n",
       "      <td>0</td>\n",
       "    </tr>\n",
       "    <tr>\n",
       "      <th>2</th>\n",
       "      <td>0</td>\n",
       "      <td>0</td>\n",
       "      <td>0</td>\n",
       "      <td>0</td>\n",
       "      <td>0</td>\n",
       "      <td>0</td>\n",
       "      <td>0</td>\n",
       "      <td>0</td>\n",
       "      <td>0</td>\n",
       "      <td>0</td>\n",
       "      <td>...</td>\n",
       "      <td>0</td>\n",
       "      <td>0</td>\n",
       "      <td>0</td>\n",
       "      <td>0</td>\n",
       "      <td>0</td>\n",
       "      <td>0</td>\n",
       "      <td>0</td>\n",
       "      <td>0</td>\n",
       "      <td>0</td>\n",
       "      <td>0</td>\n",
       "    </tr>\n",
       "    <tr>\n",
       "      <th>3</th>\n",
       "      <td>0</td>\n",
       "      <td>0</td>\n",
       "      <td>0</td>\n",
       "      <td>0</td>\n",
       "      <td>0</td>\n",
       "      <td>0</td>\n",
       "      <td>0</td>\n",
       "      <td>0</td>\n",
       "      <td>0</td>\n",
       "      <td>0</td>\n",
       "      <td>...</td>\n",
       "      <td>0</td>\n",
       "      <td>0</td>\n",
       "      <td>0</td>\n",
       "      <td>0</td>\n",
       "      <td>0</td>\n",
       "      <td>0</td>\n",
       "      <td>0</td>\n",
       "      <td>1</td>\n",
       "      <td>0</td>\n",
       "      <td>0</td>\n",
       "    </tr>\n",
       "    <tr>\n",
       "      <th>4</th>\n",
       "      <td>0</td>\n",
       "      <td>0</td>\n",
       "      <td>0</td>\n",
       "      <td>0</td>\n",
       "      <td>0</td>\n",
       "      <td>0</td>\n",
       "      <td>0</td>\n",
       "      <td>0</td>\n",
       "      <td>0</td>\n",
       "      <td>0</td>\n",
       "      <td>...</td>\n",
       "      <td>0</td>\n",
       "      <td>0</td>\n",
       "      <td>0</td>\n",
       "      <td>0</td>\n",
       "      <td>0</td>\n",
       "      <td>0</td>\n",
       "      <td>0</td>\n",
       "      <td>0</td>\n",
       "      <td>0</td>\n",
       "      <td>0</td>\n",
       "    </tr>\n",
       "    <tr>\n",
       "      <th>...</th>\n",
       "      <td>...</td>\n",
       "      <td>...</td>\n",
       "      <td>...</td>\n",
       "      <td>...</td>\n",
       "      <td>...</td>\n",
       "      <td>...</td>\n",
       "      <td>...</td>\n",
       "      <td>...</td>\n",
       "      <td>...</td>\n",
       "      <td>...</td>\n",
       "      <td>...</td>\n",
       "      <td>...</td>\n",
       "      <td>...</td>\n",
       "      <td>...</td>\n",
       "      <td>...</td>\n",
       "      <td>...</td>\n",
       "      <td>...</td>\n",
       "      <td>...</td>\n",
       "      <td>...</td>\n",
       "      <td>...</td>\n",
       "      <td>...</td>\n",
       "    </tr>\n",
       "    <tr>\n",
       "      <th>206</th>\n",
       "      <td>0</td>\n",
       "      <td>0</td>\n",
       "      <td>0</td>\n",
       "      <td>0</td>\n",
       "      <td>0</td>\n",
       "      <td>0</td>\n",
       "      <td>0</td>\n",
       "      <td>0</td>\n",
       "      <td>0</td>\n",
       "      <td>0</td>\n",
       "      <td>...</td>\n",
       "      <td>0</td>\n",
       "      <td>0</td>\n",
       "      <td>0</td>\n",
       "      <td>0</td>\n",
       "      <td>0</td>\n",
       "      <td>0</td>\n",
       "      <td>0</td>\n",
       "      <td>0</td>\n",
       "      <td>0</td>\n",
       "      <td>0</td>\n",
       "    </tr>\n",
       "    <tr>\n",
       "      <th>207</th>\n",
       "      <td>0</td>\n",
       "      <td>0</td>\n",
       "      <td>0</td>\n",
       "      <td>0</td>\n",
       "      <td>0</td>\n",
       "      <td>0</td>\n",
       "      <td>0</td>\n",
       "      <td>0</td>\n",
       "      <td>0</td>\n",
       "      <td>0</td>\n",
       "      <td>...</td>\n",
       "      <td>0</td>\n",
       "      <td>0</td>\n",
       "      <td>0</td>\n",
       "      <td>0</td>\n",
       "      <td>0</td>\n",
       "      <td>0</td>\n",
       "      <td>0</td>\n",
       "      <td>0</td>\n",
       "      <td>0</td>\n",
       "      <td>0</td>\n",
       "    </tr>\n",
       "    <tr>\n",
       "      <th>208</th>\n",
       "      <td>0</td>\n",
       "      <td>0</td>\n",
       "      <td>0</td>\n",
       "      <td>0</td>\n",
       "      <td>0</td>\n",
       "      <td>0</td>\n",
       "      <td>0</td>\n",
       "      <td>0</td>\n",
       "      <td>0</td>\n",
       "      <td>0</td>\n",
       "      <td>...</td>\n",
       "      <td>0</td>\n",
       "      <td>0</td>\n",
       "      <td>0</td>\n",
       "      <td>0</td>\n",
       "      <td>0</td>\n",
       "      <td>0</td>\n",
       "      <td>0</td>\n",
       "      <td>0</td>\n",
       "      <td>0</td>\n",
       "      <td>0</td>\n",
       "    </tr>\n",
       "    <tr>\n",
       "      <th>209</th>\n",
       "      <td>0</td>\n",
       "      <td>0</td>\n",
       "      <td>0</td>\n",
       "      <td>0</td>\n",
       "      <td>0</td>\n",
       "      <td>0</td>\n",
       "      <td>0</td>\n",
       "      <td>0</td>\n",
       "      <td>0</td>\n",
       "      <td>0</td>\n",
       "      <td>...</td>\n",
       "      <td>0</td>\n",
       "      <td>0</td>\n",
       "      <td>0</td>\n",
       "      <td>0</td>\n",
       "      <td>0</td>\n",
       "      <td>0</td>\n",
       "      <td>0</td>\n",
       "      <td>0</td>\n",
       "      <td>0</td>\n",
       "      <td>0</td>\n",
       "    </tr>\n",
       "    <tr>\n",
       "      <th>210</th>\n",
       "      <td>0</td>\n",
       "      <td>0</td>\n",
       "      <td>0</td>\n",
       "      <td>0</td>\n",
       "      <td>0</td>\n",
       "      <td>0</td>\n",
       "      <td>0</td>\n",
       "      <td>0</td>\n",
       "      <td>0</td>\n",
       "      <td>0</td>\n",
       "      <td>...</td>\n",
       "      <td>0</td>\n",
       "      <td>0</td>\n",
       "      <td>0</td>\n",
       "      <td>0</td>\n",
       "      <td>0</td>\n",
       "      <td>0</td>\n",
       "      <td>0</td>\n",
       "      <td>0</td>\n",
       "      <td>0</td>\n",
       "      <td>0</td>\n",
       "    </tr>\n",
       "  </tbody>\n",
       "</table>\n",
       "<p>211 rows × 393 columns</p>\n",
       "</div>"
      ],
      "text/plain": [
       "     abate  abjure  abound  about  abuse  abusing  acting  activity  \\\n",
       "0        0       0       0      0      0        0       0         0   \n",
       "1        0       0       0      0      0        0       0         0   \n",
       "2        0       0       0      0      0        0       0         0   \n",
       "3        0       0       0      0      0        0       0         0   \n",
       "4        0       0       0      0      0        0       0         0   \n",
       "..     ...     ...     ...    ...    ...      ...     ...       ...   \n",
       "206      0       0       0      0      0        0       0         0   \n",
       "207      0       0       0      0      0        0       0         0   \n",
       "208      0       0       0      0      0        0       0         0   \n",
       "209      0       0       0      0      0        0       0         0   \n",
       "210      0       0       0      0      0        0       0         0   \n",
       "\n",
       "     addiction  adulterate  ...  word  words  work  wrapped  \\\n",
       "0            0           0  ...     0      0     0        0   \n",
       "1            1           0  ...     0      0     0        0   \n",
       "2            0           0  ...     0      0     0        0   \n",
       "3            0           0  ...     0      0     0        0   \n",
       "4            0           0  ...     0      0     0        0   \n",
       "..         ...         ...  ...   ...    ...   ...      ...   \n",
       "206          0           0  ...     0      0     0        0   \n",
       "207          0           0  ...     0      0     0        0   \n",
       "208          0           0  ...     0      0     0        0   \n",
       "209          0           0  ...     0      0     0        0   \n",
       "210          0           0  ...     0      0     0        0   \n",
       "\n",
       "     xxxmobilemovieclub  yaba  yes  you  your  ì_  \n",
       "0                     0     0    0    0     0   0  \n",
       "1                     0     0    0    0     0   0  \n",
       "2                     0     0    0    0     0   0  \n",
       "3                     0     0    0    1     0   0  \n",
       "4                     0     0    0    0     0   0  \n",
       "..                  ...   ...  ...  ...   ...  ..  \n",
       "206                   0     0    0    0     0   0  \n",
       "207                   0     0    0    0     0   0  \n",
       "208                   0     0    0    0     0   0  \n",
       "209                   0     0    0    0     0   0  \n",
       "210                   0     0    0    0     0   0  \n",
       "\n",
       "[211 rows x 393 columns]"
      ]
     },
     "execution_count": 223,
     "metadata": {},
     "output_type": "execute_result"
    }
   ],
   "source": [
    "frequency_ofwords"
   ]
  },
  {
   "cell_type": "code",
   "execution_count": 224,
   "id": "b9177b7c",
   "metadata": {},
   "outputs": [],
   "source": [
    "x_train, x_test, y_train, y_test = train_test_split(x.toarray(), y, test_size=0.12, random_state=42)"
   ]
  },
  {
   "cell_type": "code",
   "execution_count": 225,
   "id": "56158525",
   "metadata": {},
   "outputs": [],
   "source": [
    "model = MultinomialNB()"
   ]
  },
  {
   "cell_type": "code",
   "execution_count": 226,
   "id": "b4873d7d",
   "metadata": {},
   "outputs": [
    {
     "data": {
      "text/plain": [
       "MultinomialNB()"
      ]
     },
     "execution_count": 226,
     "metadata": {},
     "output_type": "execute_result"
    }
   ],
   "source": [
    "model.fit(x_train,y_train)"
   ]
  },
  {
   "cell_type": "code",
   "execution_count": 227,
   "id": "97ce5522",
   "metadata": {},
   "outputs": [
    {
     "name": "stdout",
     "output_type": "stream",
     "text": [
      "The score for MultinomialNB model over the given data is  53.84615384615385\n"
     ]
    }
   ],
   "source": [
    "print(\"The score for MultinomialNB model over the given data is \",model.score(x_test,y_test)*100)"
   ]
  },
  {
   "cell_type": "markdown",
   "id": "cfd324f1",
   "metadata": {},
   "source": [
    "# Prediction"
   ]
  },
  {
   "cell_type": "code",
   "execution_count": 228,
   "id": "dfa053d9",
   "metadata": {},
   "outputs": [],
   "source": [
    "text1 = \"In Gorakhpur the students are taking the very addictive drugs to win the sports events very easily for there college\"\n",
    "data1 = [text1]"
   ]
  },
  {
   "cell_type": "code",
   "execution_count": 229,
   "id": "d3bbcefc",
   "metadata": {},
   "outputs": [],
   "source": [
    "data1=cv.transform(data1).toarray()"
   ]
  },
  {
   "cell_type": "code",
   "execution_count": 230,
   "id": "9c1d2b64",
   "metadata": {},
   "outputs": [],
   "source": [
    "prediction1 = model.predict(data1)"
   ]
  },
  {
   "cell_type": "code",
   "execution_count": 231,
   "id": "032d1865",
   "metadata": {},
   "outputs": [],
   "source": [
    "predict_score1 = model.predict_proba(data1)"
   ]
  },
  {
   "cell_type": "code",
   "execution_count": 232,
   "id": "f0344376",
   "metadata": {},
   "outputs": [
    {
     "data": {
      "text/plain": [
       "array([[0.30304959, 0.69695041]])"
      ]
     },
     "execution_count": 232,
     "metadata": {},
     "output_type": "execute_result"
    }
   ],
   "source": [
    "predict_score1"
   ]
  },
  {
   "cell_type": "code",
   "execution_count": 233,
   "id": "2d1a497a",
   "metadata": {},
   "outputs": [
    {
     "name": "stdout",
     "output_type": "stream",
     "text": [
      "[1]\n",
      "Genuine Reason\n"
     ]
    }
   ],
   "source": [
    "print(prediction1)\n",
    "if prediction1[0] == 1:\n",
    "    print(\"Genuine Reason\")\n",
    "else:\n",
    "    print(\"Not a Genuine Reason\")"
   ]
  },
  {
   "cell_type": "code",
   "execution_count": 234,
   "id": "f5647860",
   "metadata": {},
   "outputs": [],
   "source": [
    "text2 = \"you won 100rs in the game\"\n",
    "data2 = [text2]"
   ]
  },
  {
   "cell_type": "code",
   "execution_count": 235,
   "id": "137c553d",
   "metadata": {},
   "outputs": [],
   "source": [
    "data2=cv.transform(data2).toarray()"
   ]
  },
  {
   "cell_type": "code",
   "execution_count": 236,
   "id": "2609bd15",
   "metadata": {},
   "outputs": [],
   "source": [
    "prediction2 = model.predict(data2)"
   ]
  },
  {
   "cell_type": "code",
   "execution_count": 237,
   "id": "c0b6fc5d",
   "metadata": {},
   "outputs": [],
   "source": [
    "predict_score2=model.predict_proba(data2)"
   ]
  },
  {
   "cell_type": "code",
   "execution_count": 238,
   "id": "160d60ca",
   "metadata": {},
   "outputs": [
    {
     "data": {
      "text/plain": [
       "array([[0.85343368, 0.14656632]])"
      ]
     },
     "execution_count": 238,
     "metadata": {},
     "output_type": "execute_result"
    }
   ],
   "source": [
    "predict_score2"
   ]
  },
  {
   "cell_type": "code",
   "execution_count": 239,
   "id": "2fb27db2",
   "metadata": {},
   "outputs": [
    {
     "name": "stdout",
     "output_type": "stream",
     "text": [
      "[0]\n",
      "Not a Genuine Reason\n"
     ]
    }
   ],
   "source": [
    "print(prediction2)\n",
    "if prediction2[0] == 1:\n",
    "    print(\"Genuine Reason\")\n",
    "else:\n",
    "    print(\"Not a Genuine Reason\")"
   ]
  },
  {
   "cell_type": "code",
   "execution_count": 240,
   "id": "8f3393ab",
   "metadata": {},
   "outputs": [
    {
     "name": "stdout",
     "output_type": "stream",
     "text": [
      "[[0.48648649 0.51351351]]\n",
      "[1]\n",
      "Genuine Reason\n"
     ]
    }
   ],
   "source": [
    "text3 = \"kailash ritik afrin muskan vishnu\"\n",
    "data3 = [text3]\n",
    "data3=cv.transform(data3).toarray()\n",
    "prediction3 = model.predict(data3)\n",
    "predict_score3=model.predict_proba(data3)\n",
    "print(predict_score3)\n",
    "print(prediction3)\n",
    "if prediction3[0] == 1:\n",
    "    print(\"Genuine Reason\")\n",
    "else:\n",
    "    print(\"Not a Genuine Reason\")"
   ]
  },
  {
   "cell_type": "code",
   "execution_count": 241,
   "id": "5f6a07ce",
   "metadata": {},
   "outputs": [
    {
     "name": "stdout",
     "output_type": "stream",
     "text": [
      "[[0.00577655 0.99422345]]\n",
      "[1]\n",
      "It is a Genuine Reason with  99.42234475225906 % probabulity\n"
     ]
    }
   ],
   "source": [
    "text4 = \"Here in lucknow narcotic and steroids drugs are being trafficked in gomti nagar\"\n",
    "data4 = [text4]\n",
    "data4=cv.transform(data4).toarray()\n",
    "prediction4 = model.predict(data4)\n",
    "predict_score4=model.predict_proba(data4)\n",
    "print(predict_score4)\n",
    "print(prediction4)\n",
    "if prediction4[0] == 1:\n",
    "    print(\"It is a Genuine Reason with \",predict_score4[0][1]*100,\"% probabulity\")\n",
    "else:\n",
    "    print(\"It is Not a Genuine Reason with \",predict_score4[0][0]*100,\"% proabulity\")"
   ]
  },
  {
   "cell_type": "markdown",
   "id": "22c9225e",
   "metadata": {},
   "source": [
    "# Random Forest classifier"
   ]
  },
  {
   "cell_type": "code",
   "execution_count": 242,
   "id": "f9bc698f",
   "metadata": {},
   "outputs": [
    {
     "data": {
      "text/plain": [
       "RandomForestClassifier()"
      ]
     },
     "execution_count": 242,
     "metadata": {},
     "output_type": "execute_result"
    }
   ],
   "source": [
    "from sklearn.ensemble import RandomForestClassifier\n",
    "model2 = RandomForestClassifier(n_estimators = 100)\n",
    "model2.fit(x_train,y_train)"
   ]
  },
  {
   "cell_type": "code",
   "execution_count": 243,
   "id": "e1190cb6",
   "metadata": {},
   "outputs": [
    {
     "name": "stdout",
     "output_type": "stream",
     "text": [
      "The score for Random Forest classifier model over the given data is  80.76923076923077\n"
     ]
    }
   ],
   "source": [
    "print(\"The score for Random Forest classifier model over the given data is \",model2.score(x_test,y_test)*100)"
   ]
  },
  {
   "cell_type": "code",
   "execution_count": 244,
   "id": "a920cb4b",
   "metadata": {},
   "outputs": [
    {
     "name": "stdout",
     "output_type": "stream",
     "text": [
      "[[0.02 0.98]]\n",
      "[1]\n",
      "It is a Genuine Reason with  98.0 % probabulity\n"
     ]
    }
   ],
   "source": [
    "text4 = \"Here in lucknow narcotic and steroids drugs are being trafficked in gomti nagar\"\n",
    "data4 = [text4]\n",
    "data4=cv.transform(data4).toarray()\n",
    "prediction4 = model2.predict(data4)\n",
    "predict_score4=model2.predict_proba(data4)\n",
    "print(predict_score4)\n",
    "print(prediction4)\n",
    "if prediction4[0] == 1:\n",
    "    print(\"It is a Genuine Reason with \",predict_score4[0][1]*100,\"% probabulity\")\n",
    "else:\n",
    "    print(\"It is Not a Genuine Reason with \",predict_score4[0][0]*100,\"% proabulity\")"
   ]
  },
  {
   "cell_type": "code",
   "execution_count": 245,
   "id": "25f98036",
   "metadata": {},
   "outputs": [
    {
     "name": "stdout",
     "output_type": "stream",
     "text": [
      "[[0.88 0.12]]\n",
      "[0]\n",
      "It is Not a Genuine Reason with  88.0 % proabulity\n"
     ]
    }
   ],
   "source": [
    "text4 = \"kailash ritik afrin muskan vishnu\"\n",
    "data4 = [text4]\n",
    "data4=cv.transform(data4).toarray()\n",
    "prediction4 = model2.predict(data4)\n",
    "predict_score4=model2.predict_proba(data4)\n",
    "print(predict_score4)\n",
    "print(prediction4)\n",
    "if prediction4[0] == 1:\n",
    "    print(\"It is a Genuine Reason with \",predict_score4[0][1]*100,\"% probabulity\")\n",
    "else:\n",
    "    print(\"It is Not a Genuine Reason with \",predict_score4[0][0]*100,\"% proabulity\")"
   ]
  },
  {
   "cell_type": "code",
   "execution_count": 246,
   "id": "bae413e6",
   "metadata": {},
   "outputs": [
    {
     "name": "stdout",
     "output_type": "stream",
     "text": [
      "[[0.3 0.7]]\n",
      "[1]\n",
      "It is a Genuine Reason with  70.0 % probabulity\n"
     ]
    }
   ],
   "source": [
    "text4 = \"In Gorakhpur the students are taking the very addictive drugs to win the sports events very easily for there college\"\n",
    "data4 = [text4]\n",
    "data4=cv.transform(data4).toarray()\n",
    "prediction4 = model2.predict(data4)\n",
    "predict_score4=model2.predict_proba(data4)\n",
    "print(predict_score4)\n",
    "print(prediction4)\n",
    "if prediction4[0] == 1:\n",
    "    print(\"It is a Genuine Reason with \",predict_score4[0][1]*100,\"% probabulity\")\n",
    "else:\n",
    "    print(\"It is Not a Genuine Reason with \",predict_score4[0][0]*100,\"% proabulity\")"
   ]
  },
  {
   "cell_type": "code",
   "execution_count": null,
   "id": "ec230a73",
   "metadata": {},
   "outputs": [],
   "source": []
  }
 ],
 "metadata": {
  "kernelspec": {
   "display_name": "Python 3 (ipykernel)",
   "language": "python",
   "name": "python3"
  },
  "language_info": {
   "codemirror_mode": {
    "name": "ipython",
    "version": 3
   },
   "file_extension": ".py",
   "mimetype": "text/x-python",
   "name": "python",
   "nbconvert_exporter": "python",
   "pygments_lexer": "ipython3",
   "version": "3.9.7"
  }
 },
 "nbformat": 4,
 "nbformat_minor": 5
}
